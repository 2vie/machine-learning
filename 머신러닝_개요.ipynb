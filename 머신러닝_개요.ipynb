{
  "nbformat": 4,
  "nbformat_minor": 0,
  "metadata": {
    "colab": {
      "provenance": [],
      "authorship_tag": "ABX9TyMYvNR5vngHnU7cQvJyWcQj",
      "include_colab_link": true
    },
    "kernelspec": {
      "name": "python3",
      "display_name": "Python 3"
    },
    "language_info": {
      "name": "python"
    }
  },
  "cells": [
    {
      "cell_type": "markdown",
      "metadata": {
        "id": "view-in-github",
        "colab_type": "text"
      },
      "source": [
        "<a href=\"https://colab.research.google.com/github/2vie/machine-learning/blob/main/%EB%A8%B8%EC%8B%A0%EB%9F%AC%EB%8B%9D_%EA%B0%9C%EC%9A%94.ipynb\" target=\"_parent\"><img src=\"https://colab.research.google.com/assets/colab-badge.svg\" alt=\"Open In Colab\"/></a>"
      ]
    },
    {
      "cell_type": "code",
      "execution_count": 2,
      "metadata": {
        "id": "XMeBYckcP864"
      },
      "outputs": [],
      "source": [
        "import pandas as pd\n",
        "import numpy as np\n",
        "from sklearn.model_selection import train_test_split"
      ]
    },
    {
      "cell_type": "code",
      "source": [
        "X, y = np.arange(10).reshape((5,2)), range(5)\n",
        "print(X)\n",
        "print(list(y))"
      ],
      "metadata": {
        "colab": {
          "base_uri": "https://localhost:8080/"
        },
        "id": "Om-WhTo3QYV8",
        "outputId": "f7fd1809-b25b-4ffe-d9ae-12136003beb8"
      },
      "execution_count": 3,
      "outputs": [
        {
          "output_type": "stream",
          "name": "stdout",
          "text": [
            "[[0 1]\n",
            " [2 3]\n",
            " [4 5]\n",
            " [6 7]\n",
            " [8 9]]\n",
            "[0, 1, 2, 3, 4]\n"
          ]
        }
      ]
    },
    {
      "cell_type": "code",
      "source": [
        "X_train, X_test, y_train, y_test = train_test_split(X, y, test_size=0.2, random_state=1)\n",
        "\n",
        "print(X_train)\n",
        "print(y_train)\n",
        "print(X_test)\n",
        "print(y_test)"
      ],
      "metadata": {
        "colab": {
          "base_uri": "https://localhost:8080/"
        },
        "id": "1Z6o8CHqQfG1",
        "outputId": "f62bea69-600c-423b-cb5d-6372c8756003"
      },
      "execution_count": 4,
      "outputs": [
        {
          "output_type": "stream",
          "name": "stdout",
          "text": [
            "[[2 3]\n",
            " [8 9]\n",
            " [0 1]\n",
            " [6 7]]\n",
            "[1, 4, 0, 3]\n",
            "[[4 5]]\n",
            "[2]\n"
          ]
        }
      ]
    },
    {
      "cell_type": "markdown",
      "source": [
        "**텐서**"
      ],
      "metadata": {
        "id": "4Xzh7N58Wo0p"
      }
    },
    {
      "cell_type": "code",
      "source": [
        "t=np.array([0,1,2,3,4])\n",
        "print(t)\n",
        "print(t.ndim)\n",
        "print(t.shape)"
      ],
      "metadata": {
        "colab": {
          "base_uri": "https://localhost:8080/"
        },
        "id": "k4nSh5UfSOSi",
        "outputId": "0fcac530-06b8-46f7-e405-3551984cc14f"
      },
      "execution_count": 5,
      "outputs": [
        {
          "output_type": "stream",
          "name": "stdout",
          "text": [
            "[0 1 2 3 4]\n",
            "1\n",
            "(5,)\n"
          ]
        }
      ]
    },
    {
      "cell_type": "code",
      "source": [
        "t=np.array([[0,1,2],[3,4,5],[6,7,8],[9,10,11]])\n",
        "print(t)\n",
        "print(t.ndim)\n",
        "print(t.shape)"
      ],
      "metadata": {
        "colab": {
          "base_uri": "https://localhost:8080/"
        },
        "id": "M7iNHkW7Wx7P",
        "outputId": "919df628-000b-4597-ec48-eb462f8bb1f2"
      },
      "execution_count": 6,
      "outputs": [
        {
          "output_type": "stream",
          "name": "stdout",
          "text": [
            "[[ 0  1  2]\n",
            " [ 3  4  5]\n",
            " [ 6  7  8]\n",
            " [ 9 10 11]]\n",
            "2\n",
            "(4, 3)\n"
          ]
        }
      ]
    },
    {
      "cell_type": "markdown",
      "source": [
        "**파이토치**"
      ],
      "metadata": {
        "id": "5508pR8WYPKh"
      }
    },
    {
      "cell_type": "code",
      "source": [
        "import torch\n",
        "t=torch.FloatTensor([0,1,2,3,4])\n",
        "print(t)\n",
        "print(t.dim())\n",
        "print(t.shape)\n",
        "print(t.size())"
      ],
      "metadata": {
        "colab": {
          "base_uri": "https://localhost:8080/"
        },
        "id": "DsoszT5-Yv80",
        "outputId": "aedd6c78-0afc-4ff4-85f5-f1edf09fb6f4"
      },
      "execution_count": 7,
      "outputs": [
        {
          "output_type": "stream",
          "name": "stdout",
          "text": [
            "tensor([0., 1., 2., 3., 4.])\n",
            "1\n",
            "torch.Size([5])\n",
            "torch.Size([5])\n"
          ]
        }
      ]
    },
    {
      "cell_type": "code",
      "source": [
        "t=torch.FloatTensor(([0,1,2],[3,4,5],[6,7,8],[9,10,11]))\n",
        "print(t)\n",
        "print(t.dim())\n",
        "print(t.size())"
      ],
      "metadata": {
        "colab": {
          "base_uri": "https://localhost:8080/"
        },
        "id": "2RQbce8UY3Jt",
        "outputId": "48774914-1cbb-4d3e-926a-74178aed7418"
      },
      "execution_count": 8,
      "outputs": [
        {
          "output_type": "stream",
          "name": "stdout",
          "text": [
            "tensor([[ 0.,  1.,  2.],\n",
            "        [ 3.,  4.,  5.],\n",
            "        [ 6.,  7.,  8.],\n",
            "        [ 9., 10., 11.]])\n",
            "2\n",
            "torch.Size([4, 3])\n"
          ]
        }
      ]
    },
    {
      "cell_type": "markdown",
      "source": [
        "**텐서-브로드캐스팅**"
      ],
      "metadata": {
        "id": "Q6nXJCDHaiI2"
      }
    },
    {
      "cell_type": "code",
      "source": [
        "#같은 행렬크기끼리의 계산\n",
        "a=torch.FloatTensor(([1,2]))\n",
        "b=torch.FloatTensor(([3,3]))\n",
        "a+b"
      ],
      "metadata": {
        "colab": {
          "base_uri": "https://localhost:8080/"
        },
        "id": "aepV9ejyaUY6",
        "outputId": "437da317-3867-4bcb-fafa-caaba311b897"
      },
      "execution_count": 9,
      "outputs": [
        {
          "output_type": "execute_result",
          "data": {
            "text/plain": [
              "tensor([4., 5.])"
            ]
          },
          "metadata": {},
          "execution_count": 9
        }
      ]
    },
    {
      "cell_type": "code",
      "source": [
        "#브로드캐스팅: 차원 다른 경우 차원 자동변환해서 계산\n",
        "a=torch.FloatTensor(([1,2]))\n",
        "b=torch.FloatTensor([3])\n",
        "a+b"
      ],
      "metadata": {
        "colab": {
          "base_uri": "https://localhost:8080/"
        },
        "id": "Xb6wxrGxatjq",
        "outputId": "812096e4-dc36-403e-a02c-1cf6392d42db"
      },
      "execution_count": 10,
      "outputs": [
        {
          "output_type": "execute_result",
          "data": {
            "text/plain": [
              "tensor([4., 5.])"
            ]
          },
          "metadata": {},
          "execution_count": 10
        }
      ]
    },
    {
      "cell_type": "code",
      "source": [
        "#1*2 텐서랑 2*1 텐서 계산\n",
        "a=torch.FloatTensor([[1,2]]) #1*2\n",
        "b=torch.FloatTensor([[3],[4]]) #2*1\n",
        "a+b"
      ],
      "metadata": {
        "colab": {
          "base_uri": "https://localhost:8080/"
        },
        "id": "NlUouJfla3OY",
        "outputId": "a3737038-2bcf-4d14-ccdf-9227cbb1e110"
      },
      "execution_count": 11,
      "outputs": [
        {
          "output_type": "execute_result",
          "data": {
            "text/plain": [
              "tensor([[4., 5.],\n",
              "        [5., 6.]])"
            ]
          },
          "metadata": {},
          "execution_count": 11
        }
      ]
    },
    {
      "cell_type": "code",
      "source": [
        "#3d 텐서\n",
        "t=torch.FloatTensor([[[0,1,2],[3,4,5]],[[6,7,8],[9,10,11]]])\n",
        "print(t.size())"
      ],
      "metadata": {
        "colab": {
          "base_uri": "https://localhost:8080/"
        },
        "id": "lKaem1fZbmCE",
        "outputId": "789362fd-f6d2-48fe-ace4-987b0399b951"
      },
      "execution_count": 12,
      "outputs": [
        {
          "output_type": "stream",
          "name": "stdout",
          "text": [
            "torch.Size([2, 2, 3])\n"
          ]
        }
      ]
    },
    {
      "cell_type": "code",
      "source": [
        "#(x,3) 크기로 변경 - 열은 3으로 하고 행은 알아서 계산\n",
        "t2=t.view([-1,3])\n",
        "print(t2)\n",
        "print(t2.size())"
      ],
      "metadata": {
        "colab": {
          "base_uri": "https://localhost:8080/"
        },
        "id": "1RI4-R2Ac0uU",
        "outputId": "29fcde43-a4ff-42da-a12d-d2383ecea037"
      },
      "execution_count": 13,
      "outputs": [
        {
          "output_type": "stream",
          "name": "stdout",
          "text": [
            "tensor([[ 0.,  1.,  2.],\n",
            "        [ 3.,  4.,  5.],\n",
            "        [ 6.,  7.,  8.],\n",
            "        [ 9., 10., 11.]])\n",
            "torch.Size([4, 3])\n"
          ]
        }
      ]
    },
    {
      "cell_type": "code",
      "source": [
        "#(x,1,3) 크기로 변경 -\n",
        "t3 = t2.view([-1,1,3]) #3차원인데 전체 열은 1*3 행렬이 들어간 것처럼, 전체 행은 알아서(-1) 맞추기\n",
        "print(t3)\n",
        "print(t3.size())"
      ],
      "metadata": {
        "colab": {
          "base_uri": "https://localhost:8080/"
        },
        "id": "U7Ki903LdQwj",
        "outputId": "77c5880a-8c1a-4e60-c294-c8776b64e6ba"
      },
      "execution_count": 14,
      "outputs": [
        {
          "output_type": "stream",
          "name": "stdout",
          "text": [
            "tensor([[[ 0.,  1.,  2.]],\n",
            "\n",
            "        [[ 3.,  4.,  5.]],\n",
            "\n",
            "        [[ 6.,  7.,  8.]],\n",
            "\n",
            "        [[ 9., 10., 11.]]])\n",
            "torch.Size([4, 1, 3])\n"
          ]
        }
      ]
    },
    {
      "cell_type": "markdown",
      "source": [
        "**squeeze, unsqueeze**-1인 차원제거, 추가"
      ],
      "metadata": {
        "id": "SSWFaHuQqnSc"
      }
    },
    {
      "cell_type": "code",
      "source": [
        "t4=t3.squeeze() #크기가 1인 차원 자동제거. 아까 t3 사이즈가 [4,1,3]이었으니까 이 1을 제거함\n",
        "print(t4)\n",
        "print(t4.size()) #그럼 다시 사이즈 [4,3]인 2차원 텐서가 됨"
      ],
      "metadata": {
        "id": "XN1wVnFkelz6",
        "colab": {
          "base_uri": "https://localhost:8080/"
        },
        "outputId": "c7e28cca-759d-4f38-c808-d07ae6ab6bfc"
      },
      "execution_count": 15,
      "outputs": [
        {
          "output_type": "stream",
          "name": "stdout",
          "text": [
            "tensor([[ 0.,  1.,  2.],\n",
            "        [ 3.,  4.,  5.],\n",
            "        [ 6.,  7.,  8.],\n",
            "        [ 9., 10., 11.]])\n",
            "torch.Size([4, 3])\n"
          ]
        }
      ]
    },
    {
      "cell_type": "code",
      "source": [
        "t5=t4.unsqueeze(0) #새로운 차원 하나 추가. unsqueeze(0): 0인 자리 즉 가장 앞에 1인 차원 추가해줌\n",
        "print(t5)\n",
        "print(t5.size()) #그럼 새로운 [1,4,3] 3차원 텐서가 됨. 이건 하나의 샘플에 행4열3인 2차원이 있는 형태"
      ],
      "metadata": {
        "colab": {
          "base_uri": "https://localhost:8080/"
        },
        "id": "SBQV8kKtqud1",
        "outputId": "5dac1d21-1bd6-439e-99c0-32c98ebf35eb"
      },
      "execution_count": 17,
      "outputs": [
        {
          "output_type": "stream",
          "name": "stdout",
          "text": [
            "tensor([[[ 0.,  1.,  2.],\n",
            "         [ 3.,  4.,  5.],\n",
            "         [ 6.,  7.,  8.],\n",
            "         [ 9., 10., 11.]]])\n",
            "torch.Size([1, 4, 3])\n"
          ]
        }
      ]
    },
    {
      "cell_type": "markdown",
      "source": [
        "**자료형변경**"
      ],
      "metadata": {
        "id": "76idiGp7vVDk"
      }
    },
    {
      "cell_type": "code",
      "source": [
        "t6=t5.long() #실수형이었던 텐서를 정수형으로 바꿔주기(int64)\n",
        "print(t6)"
      ],
      "metadata": {
        "colab": {
          "base_uri": "https://localhost:8080/"
        },
        "id": "ecVeXJicq_pq",
        "outputId": "5ac7f9fe-e593-47fc-893e-8c6cc0e3c1f9"
      },
      "execution_count": 18,
      "outputs": [
        {
          "output_type": "stream",
          "name": "stdout",
          "text": [
            "tensor([[[ 0,  1,  2],\n",
            "         [ 3,  4,  5],\n",
            "         [ 6,  7,  8],\n",
            "         [ 9, 10, 11]]])\n"
          ]
        }
      ]
    },
    {
      "cell_type": "code",
      "source": [],
      "metadata": {
        "id": "cXxfLt-5vZbz"
      },
      "execution_count": null,
      "outputs": []
    }
  ]
}